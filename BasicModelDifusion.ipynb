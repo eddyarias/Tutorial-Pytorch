{
  "nbformat": 4,
  "nbformat_minor": 0,
  "metadata": {
    "colab": {
      "provenance": [],
      "gpuType": "T4"
    },
    "kernelspec": {
      "name": "python3",
      "display_name": "Python 3"
    },
    "language_info": {
      "name": "python"
    },
    "accelerator": "GPU"
  },
  "cells": [
    {
      "cell_type": "code",
      "execution_count": 1,
      "metadata": {
        "colab": {
          "base_uri": "https://localhost:8080/"
        },
        "id": "bHvHjh1uJt6-",
        "outputId": "42b0c5d4-3933-44a9-9e13-b548386b6abd"
      },
      "outputs": [
        {
          "output_type": "stream",
          "name": "stdout",
          "text": [
            "Requirement already satisfied: torch in /usr/local/lib/python3.10/dist-packages (2.4.1+cu121)\n",
            "Requirement already satisfied: torchvision in /usr/local/lib/python3.10/dist-packages (0.19.1+cu121)\n",
            "Requirement already satisfied: torchaudio in /usr/local/lib/python3.10/dist-packages (2.4.1+cu121)\n",
            "Requirement already satisfied: filelock in /usr/local/lib/python3.10/dist-packages (from torch) (3.16.1)\n",
            "Requirement already satisfied: typing-extensions>=4.8.0 in /usr/local/lib/python3.10/dist-packages (from torch) (4.12.2)\n",
            "Requirement already satisfied: sympy in /usr/local/lib/python3.10/dist-packages (from torch) (1.13.3)\n",
            "Requirement already satisfied: networkx in /usr/local/lib/python3.10/dist-packages (from torch) (3.3)\n",
            "Requirement already satisfied: jinja2 in /usr/local/lib/python3.10/dist-packages (from torch) (3.1.4)\n",
            "Requirement already satisfied: fsspec in /usr/local/lib/python3.10/dist-packages (from torch) (2024.6.1)\n",
            "Requirement already satisfied: numpy in /usr/local/lib/python3.10/dist-packages (from torchvision) (1.26.4)\n",
            "Requirement already satisfied: pillow!=8.3.*,>=5.3.0 in /usr/local/lib/python3.10/dist-packages (from torchvision) (10.4.0)\n",
            "Requirement already satisfied: MarkupSafe>=2.0 in /usr/local/lib/python3.10/dist-packages (from jinja2->torch) (2.1.5)\n",
            "Requirement already satisfied: mpmath<1.4,>=1.1.0 in /usr/local/lib/python3.10/dist-packages (from sympy->torch) (1.3.0)\n"
          ]
        }
      ],
      "source": [
        "!pip install torch torchvision torchaudio\n"
      ]
    },
    {
      "cell_type": "code",
      "source": [
        "import torch\n",
        "import torch.nn as nn\n",
        "import torch.optim as optim\n",
        "import matplotlib.pyplot as plt\n",
        "\n",
        "# Verificar si GPU está disponible\n",
        "device = torch.device('cuda' if torch.cuda.is_available() else 'cpu')\n",
        "print(f'Usando dispositivo: {device}')"
      ],
      "metadata": {
        "colab": {
          "base_uri": "https://localhost:8080/"
        },
        "id": "7jlaUiA1KuxO",
        "outputId": "e535f085-a12b-494c-8c95-1a49355fe03f"
      },
      "execution_count": 3,
      "outputs": [
        {
          "output_type": "stream",
          "name": "stdout",
          "text": [
            "Usando dispositivo: cuda\n"
          ]
        }
      ]
    },
    {
      "cell_type": "code",
      "source": [
        "# Parámetros de difusión\n",
        "T = 1000  # Número de pasos de difusión\n",
        "beta_start = 1e-4\n",
        "beta_end = 0.02\n",
        "betas = torch.linspace(beta_start, beta_end, T).to(device)\n",
        "\n",
        "# Cálculo de alphas y sqrt(1-beta)\n",
        "alphas = 1.0 - betas\n",
        "alphas_cumprod = torch.cumprod(alphas, dim=0)\n",
        "alphas_cumprod_prev = torch.cat([torch.tensor([1.0]).to(device), alphas_cumprod[:-1]])\n",
        "sqrt_one_minus_alphas_cumprod = torch.sqrt(1.0 - alphas_cumprod)"
      ],
      "metadata": {
        "id": "GmQAhnQvK0DV"
      },
      "execution_count": 4,
      "outputs": []
    },
    {
      "cell_type": "code",
      "source": [
        "import torch\n",
        "import torch.nn as nn\n",
        "\n",
        "# Modelo CNN mejorado\n",
        "class ImprovedCNNModel(nn.Module):\n",
        "    def __init__(self, input_channels=3, hidden_channels=64, image_size=64):\n",
        "        super(ImprovedCNNModel, self).__init__()\n",
        "\n",
        "        # Capa convolucional 1\n",
        "        self.conv1 = nn.Conv2d(input_channels, hidden_channels, kernel_size=3, padding=1)\n",
        "        self.bn1 = nn.BatchNorm2d(hidden_channels)  # Normalización por lotes\n",
        "        self.conv2 = nn.Conv2d(hidden_channels, hidden_channels, kernel_size=3, padding=1)\n",
        "        self.bn2 = nn.BatchNorm2d(hidden_channels)\n",
        "\n",
        "        # Max pooling para reducir la dimensionalidad\n",
        "        self.pool = nn.MaxPool2d(kernel_size=2, stride=2)\n",
        "\n",
        "        # Segunda capa convolucional\n",
        "        self.conv3 = nn.Conv2d(hidden_channels, hidden_channels * 2, kernel_size=3, padding=1)\n",
        "        self.bn3 = nn.BatchNorm2d(hidden_channels * 2)\n",
        "        self.conv4 = nn.Conv2d(hidden_channels * 2, hidden_channels * 2, kernel_size=3, padding=1)\n",
        "        self.bn4 = nn.BatchNorm2d(hidden_channels * 2)\n",
        "\n",
        "        # Max pooling adicional\n",
        "        self.pool2 = nn.MaxPool2d(kernel_size=2, stride=2)\n",
        "\n",
        "        # Capa totalmente conectada final para reconstruir la imagen\n",
        "        self.fc = nn.Linear((hidden_channels * 2) * (image_size // 4) * (image_size // 4), image_size * image_size * input_channels)\n",
        "\n",
        "    def forward(self, x):\n",
        "        # Capa convolucional + activación + batch norm + pooling\n",
        "        x = self.pool(torch.relu(self.bn1(self.conv1(x))))\n",
        "        x = torch.relu(self.bn2(self.conv2(x)))\n",
        "\n",
        "        # Segunda capa convolucional + activación + batch norm + pooling\n",
        "        x = self.pool2(torch.relu(self.bn3(self.conv3(x))))\n",
        "        x = torch.relu(self.bn4(self.conv4(x)))\n",
        "\n",
        "        # Aplanar para la capa completamente conectada\n",
        "        x = x.view(x.size(0), -1)  # Flatten (batch_size, features)\n",
        "\n",
        "        # Reconstruir imagen\n",
        "        x = self.fc(x)\n",
        "        x = x.view(x.size(0), 3, 64, 64)  # Volver al tamaño original de la imagen (64x64x3)\n",
        "        return x\n",
        "\n",
        "# Ruido gaussiano\n",
        "def sample_noise(shape):\n",
        "    \"\"\"Genera ruido gaussiano con forma especificada.\"\"\"\n",
        "    return torch.randn(shape).to(device)\n",
        "\n",
        "# Función de pérdida MSE o L1\n",
        "def loss_fn(x, y, loss_type='mse'):\n",
        "    \"\"\"Calcula la pérdida entre las predicciones y los valores reales.\"\"\"\n",
        "    if loss_type == 'mse':\n",
        "        return torch.mean((x - y) ** 2)  # MSE (pérdida cuadrática media)\n",
        "    elif loss_type == 'l1':\n",
        "        return torch.mean(torch.abs(x - y))  # L1 (pérdida absoluta media)\n",
        "\n"
      ],
      "metadata": {
        "id": "QaeI-G3xKsFQ"
      },
      "execution_count": 5,
      "outputs": []
    },
    {
      "cell_type": "code",
      "source": [
        "# Montar Google Drive si usas datos de allí\n",
        "from google.colab import drive\n",
        "drive.mount('/content/drive')"
      ],
      "metadata": {
        "colab": {
          "base_uri": "https://localhost:8080/"
        },
        "id": "Z9hnIy-sLyND",
        "outputId": "25c1add9-a5c8-44f1-f62a-e423b0150182"
      },
      "execution_count": 6,
      "outputs": [
        {
          "output_type": "stream",
          "name": "stdout",
          "text": [
            "Drive already mounted at /content/drive; to attempt to forcibly remount, call drive.mount(\"/content/drive\", force_remount=True).\n"
          ]
        }
      ]
    },
    {
      "cell_type": "code",
      "source": [
        "!unzip /content/drive/MyDrive/dataset_imagenes_personajes_anime.zip -d /content/mi_dataset\n"
      ],
      "metadata": {
        "colab": {
          "base_uri": "https://localhost:8080/"
        },
        "id": "hKwi6U7gLGYA",
        "outputId": "81b0352f-7f40-4ffc-cb64-4bba85ab05a2"
      },
      "execution_count": 7,
      "outputs": [
        {
          "output_type": "stream",
          "name": "stdout",
          "text": [
            "Archive:  /content/drive/MyDrive/dataset_imagenes_personajes_anime.zip\n",
            "replace /content/mi_dataset/anime_links.csv? [y]es, [n]o, [A]ll, [N]one, [r]ename: "
          ]
        }
      ]
    },
    {
      "cell_type": "code",
      "source": [
        "ls -1a /content/mi_dataset/dataset/dataset | wc -l\n"
      ],
      "metadata": {
        "colab": {
          "base_uri": "https://localhost:8080/"
        },
        "id": "fmGYP0ZVP0Ul",
        "outputId": "8a94b859-52d8-44ea-e7eb-6d52d5b84bad"
      },
      "execution_count": 8,
      "outputs": [
        {
          "output_type": "stream",
          "name": "stdout",
          "text": [
            "58087\n"
          ]
        }
      ]
    },
    {
      "cell_type": "code",
      "source": [
        "from torchvision import datasets, transforms\n",
        "from torch.utils.data import DataLoader\n",
        "import torch\n",
        "import numpy as np\n",
        "\n",
        "# Establecer la semilla para reproducibilidad\n",
        "seed = 42\n",
        "torch.manual_seed(seed)\n",
        "\n",
        "# Transformaciones: Redimensionar imágenes y convertir a tensor (y normalización opcional)\n",
        "transform = transforms.Compose([\n",
        "    transforms.Resize((64, 64)),      # Cambia el tamaño de las imágenes según tu preferencia\n",
        "    transforms.ToTensor(),            # Convertir la imagen a tensor\n",
        "    transforms.Normalize((0.5, 0.5, 0.5), (0.5, 0.5, 0.5))  # Normalizar valores de los píxeles (opcional, pero recomendado)\n",
        "])\n",
        "\n",
        "\n",
        "# Cargar las imágenes desde la carpeta con una subcarpeta para la única clase\n",
        "dataset = datasets.ImageFolder(root='/content/mi_dataset/dataset', transform=transform)\n",
        "\n",
        "# Cantidad total de imágenes en el dataset\n",
        "dataset_size = len(dataset)\n",
        "\n",
        "# Número de imágenes que quieres tomar de forma aleatoria\n",
        "num_samples = 5000  # Cambia este número según cuántas imágenes quieres seleccionar\n",
        "\n",
        "# Crear un índice aleatorio para seleccionar el subconjunto de imágenes\n",
        "indices = list(range(dataset_size))\n",
        "np.random.seed(seed)  # Fijar la semilla para numpy también\n",
        "np.random.shuffle(indices)  # Barajar los índices\n",
        "\n",
        "# Tomar solo los primeros \"num_samples\" índices\n",
        "subset_indices = indices[:num_samples]\n",
        "\n",
        "# Crear el sampler con los índices seleccionados\n",
        "sampler = torch.utils.data.SubsetRandomSampler(subset_indices)\n",
        "\n",
        "# Crear DataLoader usando el sampler\n",
        "dataloader = DataLoader(dataset, batch_size=64, sampler=sampler)\n",
        "\n",
        "# Ejemplo de obtener un lote de imágenes\n",
        "images, _ = next(iter(dataloader))\n",
        "print(images.shape)  # Verifica el tamaño de las imágenes seleccionadas\n",
        "\n",
        "\n"
      ],
      "metadata": {
        "colab": {
          "base_uri": "https://localhost:8080/"
        },
        "id": "LwEjTnEBLLTm",
        "outputId": "5cda1ac0-cdf7-4b9d-8413-95d0ba5725bc"
      },
      "execution_count": 9,
      "outputs": [
        {
          "output_type": "stream",
          "name": "stdout",
          "text": [
            "torch.Size([64, 3, 64, 64])\n"
          ]
        }
      ]
    },
    {
      "cell_type": "code",
      "source": [
        "# Función para mostrar imágenes del DataLoader\n",
        "def show_images(dataloader, num_images=8):\n",
        "    # Obtener un lote de imágenes del DataLoader\n",
        "    batch = next(iter(dataloader))\n",
        "    images, labels = batch\n",
        "\n",
        "    # Denormalizar las imágenes para mostrarlas correctamente\n",
        "    mean = np.array([0.5, 0.5, 0.5])\n",
        "    std = np.array([0.5, 0.5, 0.5])\n",
        "    images = images.numpy() * std[:, None, None] + mean[:, None, None]\n",
        "    images = np.clip(images, 0, 1)  # Asegurar que los valores estén en el rango correcto\n",
        "\n",
        "    # Mostrar las imágenes en una cuadrícula\n",
        "    plt.figure(figsize=(12, 6))\n",
        "    for i in range(num_images):\n",
        "        plt.subplot(2, 4, i + 1)\n",
        "        plt.imshow(np.transpose(images[i], (1, 2, 0)))  # Cambiar el orden de los canales para mostrar en RGB\n",
        "        plt.axis('off')\n",
        "        plt.title(f'Image {i + 1}')\n",
        "    plt.tight_layout()\n",
        "    plt.show()\n",
        "\n",
        "# Mostrar algunas imágenes del dataset\n",
        "show_images(dataloader, num_images=4)"
      ],
      "metadata": {
        "colab": {
          "base_uri": "https://localhost:8080/",
          "height": 211
        },
        "id": "8a9wwkjuYvJF",
        "outputId": "fbebf142-f318-422f-e62c-4a17b84c144b"
      },
      "execution_count": 10,
      "outputs": [
        {
          "output_type": "display_data",
          "data": {
            "text/plain": [
              "<Figure size 1200x600 with 4 Axes>"
            ],
            "image/png": "[encoded data removed]"
          },
          "metadata": {}
        }
      ]
    },
    {
      "cell_type": "code",
      "source": [
        "# Proceso inverso de difusión para generar imágenes\n",
        "def sample_from_diffusion(model, num_samples=16):\n",
        "    model.eval()\n",
        "    with torch.no_grad():\n",
        "        # Inicializamos con ruido gaussiano (normal) de tamaño (num_samples, 64*64*3)\n",
        "        samples = sample_noise((num_samples, 64*64*3)).to(device)\n",
        "\n",
        "        # Proceso de muestreo inverso, recorremos los pasos de T a 0\n",
        "        for t in reversed(range(T)):\n",
        "            z = sample_noise(samples.shape).to(device) if t > 0 else 0\n",
        "            predicted_noise = model(samples)\n",
        "\n",
        "            # Actualizar los samples usando el paso de difusión inverso\n",
        "            samples = (samples - betas[t] * predicted_noise) / torch.sqrt(alphas[t]) + sqrt_one_minus_alphas_cumprod[t] * z\n",
        "\n",
        "    return samples"
      ],
      "metadata": {
        "id": "OXgWVg7yS6OW"
      },
      "execution_count": 11,
      "outputs": []
    },
    {
      "cell_type": "code",
      "source": [
        "import torch\n",
        "from tqdm import tqdm  # Barra de progreso\n",
        "import matplotlib.pyplot as plt\n",
        "\n",
        "# Función de entrenamiento con progreso y generación de imágenes\n",
        "def train_diffusion_model(model, optimizer, dataloader, epochs=1000, display_every=100):\n",
        "    model.train()\n",
        "    for epoch in range(epochs):\n",
        "        epoch_loss = 0.0\n",
        "        progress_bar = tqdm(enumerate(dataloader), total=len(dataloader), desc=f\"Epoch {epoch+1}/{epochs}\")\n",
        "\n",
        "        for i, (x, _) in progress_bar:\n",
        "            x = x.to(device)\n",
        "\n",
        "            # Paso de difusión aleatorio\n",
        "            t = torch.randint(0, T, (1,), device=device).long()\n",
        "            noise = sample_noise(x.shape)\n",
        "\n",
        "            # Agregar ruido\n",
        "            noisy_x = alphas_cumprod_prev[t] * x + sqrt_one_minus_alphas_cumprod[t] * noise\n",
        "\n",
        "            # Predicción del modelo\n",
        "            predicted_noise = model(noisy_x)\n",
        "\n",
        "            # Calcular pérdida\n",
        "            loss = loss_fn(noise, predicted_noise)\n",
        "\n",
        "            # Retropropagación\n",
        "            optimizer.zero_grad()\n",
        "            loss.backward()\n",
        "            optimizer.step()\n",
        "\n",
        "            # Acumular la pérdida total de la época\n",
        "            epoch_loss += loss.item()\n",
        "            progress_bar.set_postfix(loss=loss.item())\n",
        "\n",
        "        # Imprimir pérdida al final de cada epoch\n",
        "        print(f\"Epoch {epoch+1}/{epochs}, Loss: {epoch_loss / len(dataloader)}\")\n",
        "\n",
        "        # Generar y mostrar imágenes cada 'display_every' epochs\n",
        "        if (epoch + 1) % display_every == 0:\n",
        "            generated_samples = sample_from_diffusion(model).cpu().detach()\n",
        "            generated_samples = generated_samples.view(-1, 3, 64, 64)  # Restaurar a imágenes 64x64x3\n",
        "\n",
        "            # Mostrar las primeras 8 imágenes generadas\n",
        "            fig, axes = plt.subplots(1, 8, figsize=(20, 5))\n",
        "            for i in range(8):\n",
        "                axes[i].imshow(generated_samples[i].permute(1, 2, 0))  # Reordenar a formato HWC\n",
        "                axes[i].axis('off')\n",
        "            plt.show()\n",
        "\n",
        "# Crear el modelo y transferirlo a la GPU\n",
        "model = ImprovedCNNModel().to(device)\n",
        "optimizer = torch.optim.Adam(model.parameters(), lr=1e-1, weight_decay=1e-2)\n",
        "\n",
        "# Entrenar el modelo con el dataloader de tu dataset\n",
        "train_diffusion_model(model, optimizer, dataloader, epochs=200, display_every=20)\n",
        "\n",
        "\n"
      ],
      "metadata": {
        "colab": {
          "base_uri": "https://localhost:8080/"
        },
        "id": "WRfz99apK5z3",
        "outputId": "c9e62a6d-56e4-42f9-b5fd-b4fe9603aca1"
      },
      "execution_count": null,
      "outputs": [
        {
          "output_type": "stream",
          "name": "stderr",
          "text": [
            "Epoch 1/200: 100%|██████████| 79/79 [00:27<00:00,  2.92it/s, loss=1.01]\n"
          ]
        },
        {
          "output_type": "stream",
          "name": "stdout",
          "text": [
            "Epoch 1/200, Loss: 3141.0154352580444\n"
          ]
        },
        {
          "output_type": "stream",
          "name": "stderr",
          "text": [
            "Epoch 2/200: 100%|██████████| 79/79 [00:26<00:00,  2.96it/s, loss=1.01]\n"
          ]
        },
        {
          "output_type": "stream",
          "name": "stdout",
          "text": [
            "Epoch 2/200, Loss: 1.000128681901135\n"
          ]
        },
        {
          "output_type": "stream",
          "name": "stderr",
          "text": [
            "Epoch 3/200: 100%|██████████| 79/79 [00:26<00:00,  2.96it/s, loss=1]\n"
          ]
        },
        {
          "output_type": "stream",
          "name": "stdout",
          "text": [
            "Epoch 3/200, Loss: 1.000139001049573\n"
          ]
        },
        {
          "output_type": "stream",
          "name": "stderr",
          "text": [
            "Epoch 4/200: 100%|██████████| 79/79 [00:26<00:00,  2.95it/s, loss=1.01]\n"
          ]
        },
        {
          "output_type": "stream",
          "name": "stdout",
          "text": [
            "Epoch 4/200, Loss: 1.0002636713317679\n"
          ]
        },
        {
          "output_type": "stream",
          "name": "stderr",
          "text": [
            "Epoch 5/200: 100%|██████████| 79/79 [00:26<00:00,  2.97it/s, loss=1]\n"
          ]
        },
        {
          "output_type": "stream",
          "name": "stdout",
          "text": [
            "Epoch 5/200, Loss: 1.0001946174645726\n"
          ]
        },
        {
          "output_type": "stream",
          "name": "stderr",
          "text": [
            "Epoch 6/200: 100%|██████████| 79/79 [00:26<00:00,  2.95it/s, loss=1.01]\n"
          ]
        },
        {
          "output_type": "stream",
          "name": "stdout",
          "text": [
            "Epoch 6/200, Loss: 1.0003581092327456\n"
          ]
        },
        {
          "output_type": "stream",
          "name": "stderr",
          "text": [
            "Epoch 7/200:  18%|█▊        | 14/79 [00:04<00:24,  2.68it/s, loss=0.999]"
          ]
        }
      ]
    }
  ]
}